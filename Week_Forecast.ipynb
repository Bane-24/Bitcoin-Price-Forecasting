{
  "cells": [
    {
      "cell_type": "markdown",
      "metadata": {
        "id": "view-in-github",
        "colab_type": "text"
      },
      "source": [
        "<a href=\"https://colab.research.google.com/github/Bane-24/Crypto-Price-Prediction/blob/main/Week_Forecast.ipynb\" target=\"_parent\"><img src=\"https://colab.research.google.com/assets/colab-badge.svg\" alt=\"Open In Colab\"/></a>"
      ]
    },
    {
      "cell_type": "code",
      "execution_count": null,
      "metadata": {
        "colab": {
          "base_uri": "https://localhost:8080/"
        },
        "id": "tJDgZojod5ui",
        "outputId": "baa8619a-9b5f-4353-f92d-e1c93012187c"
      },
      "outputs": [
        {
          "output_type": "stream",
          "name": "stdout",
          "text": [
            "Looking in indexes: https://pypi.org/simple, https://us-python.pkg.dev/colab-wheels/public/simple/\n",
            "Collecting cryptocmd\n",
            "  Downloading cryptocmd-0.6.1-py3-none-any.whl (8.5 kB)\n",
            "Collecting tablib\n",
            "  Downloading tablib-3.4.0-py3-none-any.whl (45 kB)\n",
            "\u001b[2K     \u001b[90m━━━━━━━━━━━━━━━━━━━━━━━━━━━━━━━━━━━━━━━━\u001b[0m \u001b[32m45.5/45.5 kB\u001b[0m \u001b[31m1.7 MB/s\u001b[0m eta \u001b[36m0:00:00\u001b[0m\n",
            "\u001b[?25hRequirement already satisfied: requests in /usr/local/lib/python3.10/dist-packages (from cryptocmd) (2.27.1)\n",
            "Requirement already satisfied: charset-normalizer~=2.0.0 in /usr/local/lib/python3.10/dist-packages (from requests->cryptocmd) (2.0.12)\n",
            "Requirement already satisfied: urllib3<1.27,>=1.21.1 in /usr/local/lib/python3.10/dist-packages (from requests->cryptocmd) (1.26.15)\n",
            "Requirement already satisfied: certifi>=2017.4.17 in /usr/local/lib/python3.10/dist-packages (from requests->cryptocmd) (2022.12.7)\n",
            "Requirement already satisfied: idna<4,>=2.5 in /usr/local/lib/python3.10/dist-packages (from requests->cryptocmd) (3.4)\n",
            "Installing collected packages: tablib, cryptocmd\n",
            "Successfully installed cryptocmd-0.6.1 tablib-3.4.0\n",
            "Looking in indexes: https://pypi.org/simple, https://us-python.pkg.dev/colab-wheels/public/simple/\n",
            "Requirement already satisfied: yfinance in /usr/local/lib/python3.10/dist-packages (0.2.18)\n",
            "Requirement already satisfied: appdirs>=1.4.4 in /usr/local/lib/python3.10/dist-packages (from yfinance) (1.4.4)\n",
            "Requirement already satisfied: multitasking>=0.0.7 in /usr/local/lib/python3.10/dist-packages (from yfinance) (0.0.11)\n",
            "Requirement already satisfied: lxml>=4.9.1 in /usr/local/lib/python3.10/dist-packages (from yfinance) (4.9.2)\n",
            "Requirement already satisfied: numpy>=1.16.5 in /usr/local/lib/python3.10/dist-packages (from yfinance) (1.22.4)\n",
            "Requirement already satisfied: cryptography>=3.3.2 in /usr/local/lib/python3.10/dist-packages (from yfinance) (40.0.2)\n",
            "Requirement already satisfied: pandas>=1.3.0 in /usr/local/lib/python3.10/dist-packages (from yfinance) (1.5.3)\n",
            "Requirement already satisfied: beautifulsoup4>=4.11.1 in /usr/local/lib/python3.10/dist-packages (from yfinance) (4.11.2)\n",
            "Requirement already satisfied: requests>=2.26 in /usr/local/lib/python3.10/dist-packages (from yfinance) (2.27.1)\n",
            "Requirement already satisfied: html5lib>=1.1 in /usr/local/lib/python3.10/dist-packages (from yfinance) (1.1)\n",
            "Requirement already satisfied: frozendict>=2.3.4 in /usr/local/lib/python3.10/dist-packages (from yfinance) (2.3.7)\n",
            "Requirement already satisfied: pytz>=2022.5 in /usr/local/lib/python3.10/dist-packages (from yfinance) (2022.7.1)\n",
            "Requirement already satisfied: soupsieve>1.2 in /usr/local/lib/python3.10/dist-packages (from beautifulsoup4>=4.11.1->yfinance) (2.4.1)\n",
            "Requirement already satisfied: cffi>=1.12 in /usr/local/lib/python3.10/dist-packages (from cryptography>=3.3.2->yfinance) (1.15.1)\n",
            "Requirement already satisfied: webencodings in /usr/local/lib/python3.10/dist-packages (from html5lib>=1.1->yfinance) (0.5.1)\n",
            "Requirement already satisfied: six>=1.9 in /usr/local/lib/python3.10/dist-packages (from html5lib>=1.1->yfinance) (1.16.0)\n",
            "Requirement already satisfied: python-dateutil>=2.8.1 in /usr/local/lib/python3.10/dist-packages (from pandas>=1.3.0->yfinance) (2.8.2)\n",
            "Requirement already satisfied: idna<4,>=2.5 in /usr/local/lib/python3.10/dist-packages (from requests>=2.26->yfinance) (3.4)\n",
            "Requirement already satisfied: charset-normalizer~=2.0.0 in /usr/local/lib/python3.10/dist-packages (from requests>=2.26->yfinance) (2.0.12)\n",
            "Requirement already satisfied: urllib3<1.27,>=1.21.1 in /usr/local/lib/python3.10/dist-packages (from requests>=2.26->yfinance) (1.26.15)\n",
            "Requirement already satisfied: certifi>=2017.4.17 in /usr/local/lib/python3.10/dist-packages (from requests>=2.26->yfinance) (2022.12.7)\n",
            "Requirement already satisfied: pycparser in /usr/local/lib/python3.10/dist-packages (from cffi>=1.12->cryptography>=3.3.2->yfinance) (2.21)\n",
            "Looking in indexes: https://pypi.org/simple, https://us-python.pkg.dev/colab-wheels/public/simple/\n",
            "Collecting keras-tuner\n",
            "  Downloading keras_tuner-1.3.5-py3-none-any.whl (176 kB)\n",
            "\u001b[2K     \u001b[90m━━━━━━━━━━━━━━━━━━━━━━━━━━━━━━━━━━━━━━━\u001b[0m \u001b[32m176.1/176.1 kB\u001b[0m \u001b[31m4.4 MB/s\u001b[0m eta \u001b[36m0:00:00\u001b[0m\n",
            "\u001b[?25hCollecting kt-legacy\n",
            "  Downloading kt_legacy-1.0.5-py3-none-any.whl (9.6 kB)\n",
            "Requirement already satisfied: packaging in /usr/local/lib/python3.10/dist-packages (from keras-tuner) (23.1)\n",
            "Requirement already satisfied: requests in /usr/local/lib/python3.10/dist-packages (from keras-tuner) (2.27.1)\n",
            "Requirement already satisfied: certifi>=2017.4.17 in /usr/local/lib/python3.10/dist-packages (from requests->keras-tuner) (2022.12.7)\n",
            "Requirement already satisfied: idna<4,>=2.5 in /usr/local/lib/python3.10/dist-packages (from requests->keras-tuner) (3.4)\n",
            "Requirement already satisfied: urllib3<1.27,>=1.21.1 in /usr/local/lib/python3.10/dist-packages (from requests->keras-tuner) (1.26.15)\n",
            "Requirement already satisfied: charset-normalizer~=2.0.0 in /usr/local/lib/python3.10/dist-packages (from requests->keras-tuner) (2.0.12)\n",
            "Installing collected packages: kt-legacy, keras-tuner\n",
            "Successfully installed keras-tuner-1.3.5 kt-legacy-1.0.5\n"
          ]
        },
        {
          "output_type": "stream",
          "name": "stderr",
          "text": [
            "<ipython-input-1-5712859aa970>:21: DeprecationWarning: `import kerastuner` is deprecated, please use `import keras_tuner`.\n",
            "  from kerastuner.tuners import BayesianOptimization\n"
          ]
        }
      ],
      "source": [
        "!pip install cryptocmd\n",
        "!pip install yfinance\n",
        "\n",
        "\n",
        "import numpy as np\n",
        "import pandas as pd\n",
        "import matplotlib.pyplot as plt\n",
        "import seaborn as sns\n",
        "from cryptocmd import CmcScraper\n",
        "from sklearn.preprocessing import MinMaxScaler\n",
        "from sklearn.model_selection import TimeSeriesSplit\n",
        "from sklearn.metrics import mean_squared_error\n",
        "import yfinance as yf\n",
        "import tensorflow as tf\n",
        "from tensorflow import keras\n",
        "\n",
        "!pip install keras-tuner\n",
        "import keras_tuner\n",
        "from tensorflow.keras.models import Sequential\n",
        "from tensorflow.keras.layers import Dense, LSTM, Dropout, Bidirectional\n",
        "from kerastuner.tuners import BayesianOptimization"
      ]
    },
    {
      "cell_type": "code",
      "execution_count": null,
      "metadata": {
        "id": "JyC8QHCTSgjL",
        "colab": {
          "base_uri": "https://localhost:8080/"
        },
        "outputId": "4a1d3f0b-8787-477a-e133-7207532f2f85"
      },
      "outputs": [
        {
          "output_type": "stream",
          "name": "stdout",
          "text": [
            "\r[*********************100%***********************]  1 of 1 completed\n"
          ]
        },
        {
          "output_type": "stream",
          "name": "stderr",
          "text": [
            "<ipython-input-2-9ed5ca8e5600>:31: FutureWarning: weekofyear and week have been deprecated, please use DatetimeIndex.isocalendar().week instead, which returns a Series. To exactly reproduce the behavior of week and weekofyear and return an Index, you may call pd.Int64Index(idx.isocalendar().week)\n",
            "  merged_df[\"week\"] = merged_df.index.week\n"
          ]
        }
      ],
      "source": [
        "\n",
        "# Scrape cryptocurrency data\n",
        "scraper = CmcScraper(\"BTC\", \"01-01-2014\", \"31-03-2023\")\n",
        "bitcoin_df = scraper.get_dataframe()\n",
        "\n",
        "# Scrape stock market data\n",
        "stock_data = yf.download(\"SPY\", start=\"2014-01-01\", end=\"2023-03-31\")\n",
        "stock_df = stock_data[\"Adj Close\"].to_frame().reset_index().rename(columns={\"Adj Close\": \"stock_price\", \"Date\": \"Date\"})\n",
        "\n",
        "# Create a date range that includes all dates between start and end dates\n",
        "date_range = pd.date_range(start=\"2014-01-01\", end=\"2023-03-31\")\n",
        "date_range_df = pd.DataFrame(date_range, columns=[\"Date\"])\n",
        "\n",
        "# Merge stock_df with the date_range_df\n",
        "stock_df = stock_df.merge(date_range_df, on=\"Date\", how=\"outer\")\n",
        "stock_df.sort_values(\"Date\", inplace=True)\n",
        "\n",
        "\n",
        "# Fill missing values using ffill and bfill methods\n",
        "stock_df[\"stock_price\"].fillna(method=\"bfill\", inplace=True)\n",
        "stock_df[\"stock_price\"].fillna(method=\"ffill\", inplace=True)\n",
        "\n",
        "\n",
        "# Merge the filled stock_df with bitcoin_df\n",
        "merged_df = bitcoin_df.merge(stock_df, on=\"Date\", how=\"inner\")\n",
        "merged_df.set_index(\"Date\", inplace=True)\n",
        "merged_df.index = pd.to_datetime(merged_df.index)\n",
        "merged_df.interpolate(method=\"time\", inplace=True)\n",
        "\n",
        "# Add day, week, and month columns\n",
        "merged_df[\"day\"] = merged_df.index.day\n",
        "merged_df[\"week\"] = merged_df.index.week\n",
        "merged_df[\"month\"] = merged_df.index.month\n",
        "merged_df = merged_df.sort_values(by = ['Date'])\n",
        "\n",
        "\n",
        "\n"
      ]
    },
    {
      "cell_type": "code",
      "execution_count": null,
      "metadata": {
        "id": "Ivct-NdC2Adt"
      },
      "outputs": [],
      "source": [
        "# Normalize features separately\n",
        "scaler_btc = MinMaxScaler()\n",
        "merged_df[\"Close\"] = scaler_btc.fit_transform(merged_df[[\"Close\"]])\n",
        "scaler_stock = MinMaxScaler()\n",
        "merged_df[\"stock_price\"] = scaler_stock.fit_transform(merged_df[[\"stock_price\"]])\n",
        "\n"
      ]
    },
    {
      "cell_type": "code",
      "source": [
        "merged_df.head(7)\n"
      ],
      "metadata": {
        "colab": {
          "base_uri": "https://localhost:8080/",
          "height": 300
        },
        "id": "gHV3dUzSSuWx",
        "outputId": "d26ab4c9-ae46-44fe-8557-3f22bcb68245"
      },
      "execution_count": null,
      "outputs": [
        {
          "output_type": "execute_result",
          "data": {
            "text/plain": [
              "                  Open         High         Low     Close      Volume  \\\n",
              "Date                                                                    \n",
              "2014-01-01  754.969971   775.349976  754.969971  0.008804  22489400.0   \n",
              "2014-01-02  773.440002   820.309998  767.210022  0.009264  38489500.0   \n",
              "2014-01-03  802.849976   834.150024  789.119995  0.009506  37810100.0   \n",
              "2014-01-04  823.270020   859.510010  801.669983  0.010112  38005000.0   \n",
              "2014-01-05  858.549988   952.400024  854.520020  0.011210  72898496.0   \n",
              "2014-01-06  936.049988  1017.119995  905.710022  0.011503  85565696.0   \n",
              "2014-01-07  946.489990   965.739990  802.000000  0.009258  81311696.0   \n",
              "\n",
              "              Market Cap  stock_price  day  week  month  \n",
              "Date                                                     \n",
              "2014-01-01  9.403308e+09     0.022988    1     1      1  \n",
              "2014-01-02  9.781074e+09     0.022988    2     1      1  \n",
              "2014-01-03  9.980135e+09     0.022910    3     1      1  \n",
              "2014-01-04  1.047736e+10     0.021517    4     1      1  \n",
              "2014-01-05  1.137966e+10     0.021517    5     1      1  \n",
              "2014-01-06  1.162053e+10     0.021517    6     2      1  \n",
              "2014-01-07  9.808300e+09     0.024460    7     2      1  "
            ],
            "text/html": [
              "\n",
              "  <div id=\"df-0e557525-e483-4088-a39c-4888f8651ce8\">\n",
              "    <div class=\"colab-df-container\">\n",
              "      <div>\n",
              "<style scoped>\n",
              "    .dataframe tbody tr th:only-of-type {\n",
              "        vertical-align: middle;\n",
              "    }\n",
              "\n",
              "    .dataframe tbody tr th {\n",
              "        vertical-align: top;\n",
              "    }\n",
              "\n",
              "    .dataframe thead th {\n",
              "        text-align: right;\n",
              "    }\n",
              "</style>\n",
              "<table border=\"1\" class=\"dataframe\">\n",
              "  <thead>\n",
              "    <tr style=\"text-align: right;\">\n",
              "      <th></th>\n",
              "      <th>Open</th>\n",
              "      <th>High</th>\n",
              "      <th>Low</th>\n",
              "      <th>Close</th>\n",
              "      <th>Volume</th>\n",
              "      <th>Market Cap</th>\n",
              "      <th>stock_price</th>\n",
              "      <th>day</th>\n",
              "      <th>week</th>\n",
              "      <th>month</th>\n",
              "    </tr>\n",
              "    <tr>\n",
              "      <th>Date</th>\n",
              "      <th></th>\n",
              "      <th></th>\n",
              "      <th></th>\n",
              "      <th></th>\n",
              "      <th></th>\n",
              "      <th></th>\n",
              "      <th></th>\n",
              "      <th></th>\n",
              "      <th></th>\n",
              "      <th></th>\n",
              "    </tr>\n",
              "  </thead>\n",
              "  <tbody>\n",
              "    <tr>\n",
              "      <th>2014-01-01</th>\n",
              "      <td>754.969971</td>\n",
              "      <td>775.349976</td>\n",
              "      <td>754.969971</td>\n",
              "      <td>0.008804</td>\n",
              "      <td>22489400.0</td>\n",
              "      <td>9.403308e+09</td>\n",
              "      <td>0.022988</td>\n",
              "      <td>1</td>\n",
              "      <td>1</td>\n",
              "      <td>1</td>\n",
              "    </tr>\n",
              "    <tr>\n",
              "      <th>2014-01-02</th>\n",
              "      <td>773.440002</td>\n",
              "      <td>820.309998</td>\n",
              "      <td>767.210022</td>\n",
              "      <td>0.009264</td>\n",
              "      <td>38489500.0</td>\n",
              "      <td>9.781074e+09</td>\n",
              "      <td>0.022988</td>\n",
              "      <td>2</td>\n",
              "      <td>1</td>\n",
              "      <td>1</td>\n",
              "    </tr>\n",
              "    <tr>\n",
              "      <th>2014-01-03</th>\n",
              "      <td>802.849976</td>\n",
              "      <td>834.150024</td>\n",
              "      <td>789.119995</td>\n",
              "      <td>0.009506</td>\n",
              "      <td>37810100.0</td>\n",
              "      <td>9.980135e+09</td>\n",
              "      <td>0.022910</td>\n",
              "      <td>3</td>\n",
              "      <td>1</td>\n",
              "      <td>1</td>\n",
              "    </tr>\n",
              "    <tr>\n",
              "      <th>2014-01-04</th>\n",
              "      <td>823.270020</td>\n",
              "      <td>859.510010</td>\n",
              "      <td>801.669983</td>\n",
              "      <td>0.010112</td>\n",
              "      <td>38005000.0</td>\n",
              "      <td>1.047736e+10</td>\n",
              "      <td>0.021517</td>\n",
              "      <td>4</td>\n",
              "      <td>1</td>\n",
              "      <td>1</td>\n",
              "    </tr>\n",
              "    <tr>\n",
              "      <th>2014-01-05</th>\n",
              "      <td>858.549988</td>\n",
              "      <td>952.400024</td>\n",
              "      <td>854.520020</td>\n",
              "      <td>0.011210</td>\n",
              "      <td>72898496.0</td>\n",
              "      <td>1.137966e+10</td>\n",
              "      <td>0.021517</td>\n",
              "      <td>5</td>\n",
              "      <td>1</td>\n",
              "      <td>1</td>\n",
              "    </tr>\n",
              "    <tr>\n",
              "      <th>2014-01-06</th>\n",
              "      <td>936.049988</td>\n",
              "      <td>1017.119995</td>\n",
              "      <td>905.710022</td>\n",
              "      <td>0.011503</td>\n",
              "      <td>85565696.0</td>\n",
              "      <td>1.162053e+10</td>\n",
              "      <td>0.021517</td>\n",
              "      <td>6</td>\n",
              "      <td>2</td>\n",
              "      <td>1</td>\n",
              "    </tr>\n",
              "    <tr>\n",
              "      <th>2014-01-07</th>\n",
              "      <td>946.489990</td>\n",
              "      <td>965.739990</td>\n",
              "      <td>802.000000</td>\n",
              "      <td>0.009258</td>\n",
              "      <td>81311696.0</td>\n",
              "      <td>9.808300e+09</td>\n",
              "      <td>0.024460</td>\n",
              "      <td>7</td>\n",
              "      <td>2</td>\n",
              "      <td>1</td>\n",
              "    </tr>\n",
              "  </tbody>\n",
              "</table>\n",
              "</div>\n",
              "      <button class=\"colab-df-convert\" onclick=\"convertToInteractive('df-0e557525-e483-4088-a39c-4888f8651ce8')\"\n",
              "              title=\"Convert this dataframe to an interactive table.\"\n",
              "              style=\"display:none;\">\n",
              "        \n",
              "  <svg xmlns=\"http://www.w3.org/2000/svg\" height=\"24px\"viewBox=\"0 0 24 24\"\n",
              "       width=\"24px\">\n",
              "    <path d=\"M0 0h24v24H0V0z\" fill=\"none\"/>\n",
              "    <path d=\"M18.56 5.44l.94 2.06.94-2.06 2.06-.94-2.06-.94-.94-2.06-.94 2.06-2.06.94zm-11 1L8.5 8.5l.94-2.06 2.06-.94-2.06-.94L8.5 2.5l-.94 2.06-2.06.94zm10 10l.94 2.06.94-2.06 2.06-.94-2.06-.94-.94-2.06-.94 2.06-2.06.94z\"/><path d=\"M17.41 7.96l-1.37-1.37c-.4-.4-.92-.59-1.43-.59-.52 0-1.04.2-1.43.59L10.3 9.45l-7.72 7.72c-.78.78-.78 2.05 0 2.83L4 21.41c.39.39.9.59 1.41.59.51 0 1.02-.2 1.41-.59l7.78-7.78 2.81-2.81c.8-.78.8-2.07 0-2.86zM5.41 20L4 18.59l7.72-7.72 1.47 1.35L5.41 20z\"/>\n",
              "  </svg>\n",
              "      </button>\n",
              "      \n",
              "  <style>\n",
              "    .colab-df-container {\n",
              "      display:flex;\n",
              "      flex-wrap:wrap;\n",
              "      gap: 12px;\n",
              "    }\n",
              "\n",
              "    .colab-df-convert {\n",
              "      background-color: #E8F0FE;\n",
              "      border: none;\n",
              "      border-radius: 50%;\n",
              "      cursor: pointer;\n",
              "      display: none;\n",
              "      fill: #1967D2;\n",
              "      height: 32px;\n",
              "      padding: 0 0 0 0;\n",
              "      width: 32px;\n",
              "    }\n",
              "\n",
              "    .colab-df-convert:hover {\n",
              "      background-color: #E2EBFA;\n",
              "      box-shadow: 0px 1px 2px rgba(60, 64, 67, 0.3), 0px 1px 3px 1px rgba(60, 64, 67, 0.15);\n",
              "      fill: #174EA6;\n",
              "    }\n",
              "\n",
              "    [theme=dark] .colab-df-convert {\n",
              "      background-color: #3B4455;\n",
              "      fill: #D2E3FC;\n",
              "    }\n",
              "\n",
              "    [theme=dark] .colab-df-convert:hover {\n",
              "      background-color: #434B5C;\n",
              "      box-shadow: 0px 1px 3px 1px rgba(0, 0, 0, 0.15);\n",
              "      filter: drop-shadow(0px 1px 2px rgba(0, 0, 0, 0.3));\n",
              "      fill: #FFFFFF;\n",
              "    }\n",
              "  </style>\n",
              "\n",
              "      <script>\n",
              "        const buttonEl =\n",
              "          document.querySelector('#df-0e557525-e483-4088-a39c-4888f8651ce8 button.colab-df-convert');\n",
              "        buttonEl.style.display =\n",
              "          google.colab.kernel.accessAllowed ? 'block' : 'none';\n",
              "\n",
              "        async function convertToInteractive(key) {\n",
              "          const element = document.querySelector('#df-0e557525-e483-4088-a39c-4888f8651ce8');\n",
              "          const dataTable =\n",
              "            await google.colab.kernel.invokeFunction('convertToInteractive',\n",
              "                                                     [key], {});\n",
              "          if (!dataTable) return;\n",
              "\n",
              "          const docLinkHtml = 'Like what you see? Visit the ' +\n",
              "            '<a target=\"_blank\" href=https://colab.research.google.com/notebooks/data_table.ipynb>data table notebook</a>'\n",
              "            + ' to learn more about interactive tables.';\n",
              "          element.innerHTML = '';\n",
              "          dataTable['output_type'] = 'display_data';\n",
              "          await google.colab.output.renderOutput(dataTable, element);\n",
              "          const docLink = document.createElement('div');\n",
              "          docLink.innerHTML = docLinkHtml;\n",
              "          element.appendChild(docLink);\n",
              "        }\n",
              "      </script>\n",
              "    </div>\n",
              "  </div>\n",
              "  "
            ]
          },
          "metadata": {},
          "execution_count": 4
        }
      ]
    },
    {
      "cell_type": "code",
      "source": [
        "# Calculate the number of weeks since the start of the data\n",
        "merged_df['week_number'] = (merged_df.index - merged_df.index[0]).days // 7\n",
        "\n",
        "# Calculate weekly averages\n",
        "weekly_avg = merged_df.groupby('week_number').mean()\n",
        "weekly_avg.drop(['day', 'week', 'month'], axis=1, inplace=True)\n",
        "\n",
        "\n",
        "# Calculate the number of months since the start of the data\n",
        "merged_df['month_number'] = ((merged_df.index.year - merged_df.index[0].year) * 12) + (merged_df.index.month - merged_df.index[0].month)\n",
        "\n",
        "# Calculate monthly averages\n",
        "monthly_avg = merged_df.groupby('month_number').mean()\n",
        "monthly_avg.drop(['day', 'week', 'month', 'week_number'], axis=1, inplace=True)\n"
      ],
      "metadata": {
        "id": "suizcw7RO-8O"
      },
      "execution_count": null,
      "outputs": []
    },
    {
      "cell_type": "code",
      "source": [
        "weekly_avg.tail(7)\n"
      ],
      "metadata": {
        "colab": {
          "base_uri": "https://localhost:8080/",
          "height": 300
        },
        "id": "gYEoX4qVPphV",
        "outputId": "8bbee53e-7f0e-48f4-94ce-6c6215282441"
      },
      "execution_count": null,
      "outputs": [
        {
          "output_type": "execute_result",
          "data": {
            "text/plain": [
              "                     Open          High           Low     Close        Volume  \\\n",
              "week_number                                                                     \n",
              "476          24074.887644  24915.028665  23724.333755  0.359290  3.122549e+10   \n",
              "477          23718.815922  23922.283901  23224.945493  0.346592  2.334706e+10   \n",
              "478          22836.684136  23032.813324  22485.083911  0.334258  1.938761e+10   \n",
              "479          21639.657458  22640.759969  21151.922960  0.323839  3.657534e+10   \n",
              "480          26346.731502  27336.079353  25910.242125  0.395474  4.037439e+10   \n",
              "481          27699.229675  28198.604642  26986.916188  0.406564  2.097380e+10   \n",
              "482          27883.145311  28806.447363  27521.178593  0.417113  2.070721e+10   \n",
              "\n",
              "               Market Cap  stock_price  \n",
              "week_number                             \n",
              "476          4.706130e+11     0.794155  \n",
              "477          4.542570e+11     0.776061  \n",
              "478          4.383624e+11     0.786421  \n",
              "479          4.249514e+11     0.749116  \n",
              "480          5.183671e+11     0.766315  \n",
              "481          5.329923e+11     0.772352  \n",
              "482          5.468611e+11     0.796504  "
            ],
            "text/html": [
              "\n",
              "  <div id=\"df-34908b94-fbe4-4154-b8f7-aa9ae15347d0\">\n",
              "    <div class=\"colab-df-container\">\n",
              "      <div>\n",
              "<style scoped>\n",
              "    .dataframe tbody tr th:only-of-type {\n",
              "        vertical-align: middle;\n",
              "    }\n",
              "\n",
              "    .dataframe tbody tr th {\n",
              "        vertical-align: top;\n",
              "    }\n",
              "\n",
              "    .dataframe thead th {\n",
              "        text-align: right;\n",
              "    }\n",
              "</style>\n",
              "<table border=\"1\" class=\"dataframe\">\n",
              "  <thead>\n",
              "    <tr style=\"text-align: right;\">\n",
              "      <th></th>\n",
              "      <th>Open</th>\n",
              "      <th>High</th>\n",
              "      <th>Low</th>\n",
              "      <th>Close</th>\n",
              "      <th>Volume</th>\n",
              "      <th>Market Cap</th>\n",
              "      <th>stock_price</th>\n",
              "    </tr>\n",
              "    <tr>\n",
              "      <th>week_number</th>\n",
              "      <th></th>\n",
              "      <th></th>\n",
              "      <th></th>\n",
              "      <th></th>\n",
              "      <th></th>\n",
              "      <th></th>\n",
              "      <th></th>\n",
              "    </tr>\n",
              "  </thead>\n",
              "  <tbody>\n",
              "    <tr>\n",
              "      <th>476</th>\n",
              "      <td>24074.887644</td>\n",
              "      <td>24915.028665</td>\n",
              "      <td>23724.333755</td>\n",
              "      <td>0.359290</td>\n",
              "      <td>3.122549e+10</td>\n",
              "      <td>4.706130e+11</td>\n",
              "      <td>0.794155</td>\n",
              "    </tr>\n",
              "    <tr>\n",
              "      <th>477</th>\n",
              "      <td>23718.815922</td>\n",
              "      <td>23922.283901</td>\n",
              "      <td>23224.945493</td>\n",
              "      <td>0.346592</td>\n",
              "      <td>2.334706e+10</td>\n",
              "      <td>4.542570e+11</td>\n",
              "      <td>0.776061</td>\n",
              "    </tr>\n",
              "    <tr>\n",
              "      <th>478</th>\n",
              "      <td>22836.684136</td>\n",
              "      <td>23032.813324</td>\n",
              "      <td>22485.083911</td>\n",
              "      <td>0.334258</td>\n",
              "      <td>1.938761e+10</td>\n",
              "      <td>4.383624e+11</td>\n",
              "      <td>0.786421</td>\n",
              "    </tr>\n",
              "    <tr>\n",
              "      <th>479</th>\n",
              "      <td>21639.657458</td>\n",
              "      <td>22640.759969</td>\n",
              "      <td>21151.922960</td>\n",
              "      <td>0.323839</td>\n",
              "      <td>3.657534e+10</td>\n",
              "      <td>4.249514e+11</td>\n",
              "      <td>0.749116</td>\n",
              "    </tr>\n",
              "    <tr>\n",
              "      <th>480</th>\n",
              "      <td>26346.731502</td>\n",
              "      <td>27336.079353</td>\n",
              "      <td>25910.242125</td>\n",
              "      <td>0.395474</td>\n",
              "      <td>4.037439e+10</td>\n",
              "      <td>5.183671e+11</td>\n",
              "      <td>0.766315</td>\n",
              "    </tr>\n",
              "    <tr>\n",
              "      <th>481</th>\n",
              "      <td>27699.229675</td>\n",
              "      <td>28198.604642</td>\n",
              "      <td>26986.916188</td>\n",
              "      <td>0.406564</td>\n",
              "      <td>2.097380e+10</td>\n",
              "      <td>5.329923e+11</td>\n",
              "      <td>0.772352</td>\n",
              "    </tr>\n",
              "    <tr>\n",
              "      <th>482</th>\n",
              "      <td>27883.145311</td>\n",
              "      <td>28806.447363</td>\n",
              "      <td>27521.178593</td>\n",
              "      <td>0.417113</td>\n",
              "      <td>2.070721e+10</td>\n",
              "      <td>5.468611e+11</td>\n",
              "      <td>0.796504</td>\n",
              "    </tr>\n",
              "  </tbody>\n",
              "</table>\n",
              "</div>\n",
              "      <button class=\"colab-df-convert\" onclick=\"convertToInteractive('df-34908b94-fbe4-4154-b8f7-aa9ae15347d0')\"\n",
              "              title=\"Convert this dataframe to an interactive table.\"\n",
              "              style=\"display:none;\">\n",
              "        \n",
              "  <svg xmlns=\"http://www.w3.org/2000/svg\" height=\"24px\"viewBox=\"0 0 24 24\"\n",
              "       width=\"24px\">\n",
              "    <path d=\"M0 0h24v24H0V0z\" fill=\"none\"/>\n",
              "    <path d=\"M18.56 5.44l.94 2.06.94-2.06 2.06-.94-2.06-.94-.94-2.06-.94 2.06-2.06.94zm-11 1L8.5 8.5l.94-2.06 2.06-.94-2.06-.94L8.5 2.5l-.94 2.06-2.06.94zm10 10l.94 2.06.94-2.06 2.06-.94-2.06-.94-.94-2.06-.94 2.06-2.06.94z\"/><path d=\"M17.41 7.96l-1.37-1.37c-.4-.4-.92-.59-1.43-.59-.52 0-1.04.2-1.43.59L10.3 9.45l-7.72 7.72c-.78.78-.78 2.05 0 2.83L4 21.41c.39.39.9.59 1.41.59.51 0 1.02-.2 1.41-.59l7.78-7.78 2.81-2.81c.8-.78.8-2.07 0-2.86zM5.41 20L4 18.59l7.72-7.72 1.47 1.35L5.41 20z\"/>\n",
              "  </svg>\n",
              "      </button>\n",
              "      \n",
              "  <style>\n",
              "    .colab-df-container {\n",
              "      display:flex;\n",
              "      flex-wrap:wrap;\n",
              "      gap: 12px;\n",
              "    }\n",
              "\n",
              "    .colab-df-convert {\n",
              "      background-color: #E8F0FE;\n",
              "      border: none;\n",
              "      border-radius: 50%;\n",
              "      cursor: pointer;\n",
              "      display: none;\n",
              "      fill: #1967D2;\n",
              "      height: 32px;\n",
              "      padding: 0 0 0 0;\n",
              "      width: 32px;\n",
              "    }\n",
              "\n",
              "    .colab-df-convert:hover {\n",
              "      background-color: #E2EBFA;\n",
              "      box-shadow: 0px 1px 2px rgba(60, 64, 67, 0.3), 0px 1px 3px 1px rgba(60, 64, 67, 0.15);\n",
              "      fill: #174EA6;\n",
              "    }\n",
              "\n",
              "    [theme=dark] .colab-df-convert {\n",
              "      background-color: #3B4455;\n",
              "      fill: #D2E3FC;\n",
              "    }\n",
              "\n",
              "    [theme=dark] .colab-df-convert:hover {\n",
              "      background-color: #434B5C;\n",
              "      box-shadow: 0px 1px 3px 1px rgba(0, 0, 0, 0.15);\n",
              "      filter: drop-shadow(0px 1px 2px rgba(0, 0, 0, 0.3));\n",
              "      fill: #FFFFFF;\n",
              "    }\n",
              "  </style>\n",
              "\n",
              "      <script>\n",
              "        const buttonEl =\n",
              "          document.querySelector('#df-34908b94-fbe4-4154-b8f7-aa9ae15347d0 button.colab-df-convert');\n",
              "        buttonEl.style.display =\n",
              "          google.colab.kernel.accessAllowed ? 'block' : 'none';\n",
              "\n",
              "        async function convertToInteractive(key) {\n",
              "          const element = document.querySelector('#df-34908b94-fbe4-4154-b8f7-aa9ae15347d0');\n",
              "          const dataTable =\n",
              "            await google.colab.kernel.invokeFunction('convertToInteractive',\n",
              "                                                     [key], {});\n",
              "          if (!dataTable) return;\n",
              "\n",
              "          const docLinkHtml = 'Like what you see? Visit the ' +\n",
              "            '<a target=\"_blank\" href=https://colab.research.google.com/notebooks/data_table.ipynb>data table notebook</a>'\n",
              "            + ' to learn more about interactive tables.';\n",
              "          element.innerHTML = '';\n",
              "          dataTable['output_type'] = 'display_data';\n",
              "          await google.colab.output.renderOutput(dataTable, element);\n",
              "          const docLink = document.createElement('div');\n",
              "          docLink.innerHTML = docLinkHtml;\n",
              "          element.appendChild(docLink);\n",
              "        }\n",
              "      </script>\n",
              "    </div>\n",
              "  </div>\n",
              "  "
            ]
          },
          "metadata": {},
          "execution_count": 6
        }
      ]
    },
    {
      "cell_type": "code",
      "execution_count": null,
      "metadata": {
        "id": "sD8_mqtC2GSr"
      },
      "outputs": [],
      "source": [
        "# Prepare data\n",
        "def prepare_data(df, feature_columns, target_column, n_past, n_future):\n",
        "    x_data, y_data = [], []\n",
        "    for i in range(n_past, len(df) - n_future + 1):\n",
        "        x_data.append(df[feature_columns].iloc[i - n_past:i].values)\n",
        "        y_data.append(df[target_column].iloc[i:i + n_future].values)\n",
        "    return np.array(x_data), np.array(y_data)\n",
        "\n",
        "n_past = 120\n",
        "n_future = 1\n",
        "feature_columns = [\"Close\", \"stock_price\"]\n",
        "target_column = \"Close\"\n",
        "x_data, y_data = prepare_data(merged_df, feature_columns, target_column, n_past, n_future)\n"
      ]
    },
    {
      "cell_type": "code",
      "source": [
        "# Daily Prediction\n",
        "# Split into train and test sets\n",
        "# Set the cutoff date\n",
        "train_date = \"2022-03-01\"\n",
        "# Calculate the index of the train_date\n",
        "train_date_index = merged_df.index.get_loc(pd.Timestamp(train_date), method='nearest')\n",
        "\n",
        "# Calculate the train_size based on the date\n",
        "train_size = len(merged_df.loc[:train_date]) - n_past\n",
        "\n",
        "x_train, x_test = x_data[:train_size], x_data[train_size:]\n",
        "y_train, y_test = y_data[:train_size], y_data[train_size:]"
      ],
      "metadata": {
        "colab": {
          "base_uri": "https://localhost:8080/"
        },
        "id": "jXrw4hcxYfRD",
        "outputId": "71bacc0b-0c61-4a2a-b04a-5f059c2b98e9"
      },
      "execution_count": null,
      "outputs": [
        {
          "output_type": "stream",
          "name": "stderr",
          "text": [
            "<ipython-input-8-cbe2171cba86>:6: FutureWarning: Passing method to DatetimeIndex.get_loc is deprecated and will raise in a future version. Use index.get_indexer([item], method=...) instead.\n",
            "  train_date_index = merged_df.index.get_loc(pd.Timestamp(train_date), method='nearest')\n"
          ]
        }
      ]
    },
    {
      "cell_type": "code",
      "source": [
        "# Weekly Prediction\n",
        "# Split into train and test sets\n",
        "# Set the train_date index\n",
        "train_week_index = 470\n",
        "n_past_week = 20\n",
        "n_future = 1\n",
        "x_data2, y_data2 = prepare_data(weekly_avg, feature_columns, target_column, n_past_week, n_future)\n",
        "\n",
        "\n",
        "# Calculate the train_size based on the index\n",
        "train_size_week = train_week_index - n_past\n",
        "\n",
        "x_train2, x_test2 = x_data2[:train_size_week], x_data2[train_size_week:]\n",
        "y_train2, y_test2 = y_data2[:train_size_week], y_data2[train_size_week:]"
      ],
      "metadata": {
        "id": "6qSg7NLWYmH3"
      },
      "execution_count": null,
      "outputs": []
    },
    {
      "cell_type": "code",
      "execution_count": null,
      "metadata": {
        "colab": {
          "base_uri": "https://localhost:8080/"
        },
        "id": "lAWS3lhMGb99",
        "outputId": "9ee30ba6-a9ff-4cb8-b005-52e33aaebbef"
      },
      "outputs": [
        {
          "output_type": "stream",
          "name": "stdout",
          "text": [
            "x_train shape: (350, 20, 2)\n",
            "y_train shape: (350, 1)\n",
            "x_test shape: (113, 20, 2)\n",
            "y_test shape: (113, 1)\n"
          ]
        }
      ],
      "source": [
        "print(\"x_train shape:\", x_train2.shape)\n",
        "print(\"y_train shape:\", y_train2.shape)\n",
        "print(\"x_test shape:\", x_test2.shape)\n",
        "print(\"y_test shape:\", y_test2.shape)\n"
      ]
    },
    {
      "cell_type": "code",
      "execution_count": 14,
      "metadata": {
        "colab": {
          "base_uri": "https://localhost:8080/",
          "height": 209
        },
        "id": "X3Pu1_dZ2MZw",
        "outputId": "0712dc24-fd87-4d78-b846-e01e6109fb4d"
      },
      "outputs": [
        {
          "metadata": {
            "tags": null
          },
          "name": "stdout",
          "output_type": "stream",
          "text": [
            "Fitting 3 folds for each of 10 candidates, totalling 30 fits\n"
          ]
        },
        {
          "output_type": "stream",
          "name": "stderr",
          "text": [
            "<ipython-input-14-bc25ce849c0c>:17: DeprecationWarning: KerasRegressor is deprecated, use Sci-Keras (https://github.com/adriangb/scikeras) instead. See https://www.adriangb.com/scikeras/stable/migration.html for help migrating.\n",
            "  model = KerasRegressor(build_fn=create_model, verbose=0)\n",
            "WARNING:absl:`lr` is deprecated in Keras optimizer, please use `learning_rate` or use the legacy optimizer, e.g.,tf.keras.optimizers.legacy.Adam.\n"
          ]
        },
        {
          "output_type": "execute_result",
          "data": {
            "text/plain": [
              "RandomizedSearchCV(cv=3,\n",
              "                   estimator=<keras.wrappers.scikit_learn.KerasRegressor object at 0x7efc070f9cc0>,\n",
              "                   n_jobs=-1,\n",
              "                   param_distributions={'batch_size': [32, 64],\n",
              "                                        'dropout_rate': [0.2, 0.4],\n",
              "                                        'epochs': [10],\n",
              "                                        'learning_rate': [0.01, 0.001],\n",
              "                                        'neurons': [25, 50]},\n",
              "                   random_state=42, verbose=2)"
            ],
            "text/html": [
              "<style>#sk-container-id-2 {color: black;background-color: white;}#sk-container-id-2 pre{padding: 0;}#sk-container-id-2 div.sk-toggleable {background-color: white;}#sk-container-id-2 label.sk-toggleable__label {cursor: pointer;display: block;width: 100%;margin-bottom: 0;padding: 0.3em;box-sizing: border-box;text-align: center;}#sk-container-id-2 label.sk-toggleable__label-arrow:before {content: \"▸\";float: left;margin-right: 0.25em;color: #696969;}#sk-container-id-2 label.sk-toggleable__label-arrow:hover:before {color: black;}#sk-container-id-2 div.sk-estimator:hover label.sk-toggleable__label-arrow:before {color: black;}#sk-container-id-2 div.sk-toggleable__content {max-height: 0;max-width: 0;overflow: hidden;text-align: left;background-color: #f0f8ff;}#sk-container-id-2 div.sk-toggleable__content pre {margin: 0.2em;color: black;border-radius: 0.25em;background-color: #f0f8ff;}#sk-container-id-2 input.sk-toggleable__control:checked~div.sk-toggleable__content {max-height: 200px;max-width: 100%;overflow: auto;}#sk-container-id-2 input.sk-toggleable__control:checked~label.sk-toggleable__label-arrow:before {content: \"▾\";}#sk-container-id-2 div.sk-estimator input.sk-toggleable__control:checked~label.sk-toggleable__label {background-color: #d4ebff;}#sk-container-id-2 div.sk-label input.sk-toggleable__control:checked~label.sk-toggleable__label {background-color: #d4ebff;}#sk-container-id-2 input.sk-hidden--visually {border: 0;clip: rect(1px 1px 1px 1px);clip: rect(1px, 1px, 1px, 1px);height: 1px;margin: -1px;overflow: hidden;padding: 0;position: absolute;width: 1px;}#sk-container-id-2 div.sk-estimator {font-family: monospace;background-color: #f0f8ff;border: 1px dotted black;border-radius: 0.25em;box-sizing: border-box;margin-bottom: 0.5em;}#sk-container-id-2 div.sk-estimator:hover {background-color: #d4ebff;}#sk-container-id-2 div.sk-parallel-item::after {content: \"\";width: 100%;border-bottom: 1px solid gray;flex-grow: 1;}#sk-container-id-2 div.sk-label:hover label.sk-toggleable__label {background-color: #d4ebff;}#sk-container-id-2 div.sk-serial::before {content: \"\";position: absolute;border-left: 1px solid gray;box-sizing: border-box;top: 0;bottom: 0;left: 50%;z-index: 0;}#sk-container-id-2 div.sk-serial {display: flex;flex-direction: column;align-items: center;background-color: white;padding-right: 0.2em;padding-left: 0.2em;position: relative;}#sk-container-id-2 div.sk-item {position: relative;z-index: 1;}#sk-container-id-2 div.sk-parallel {display: flex;align-items: stretch;justify-content: center;background-color: white;position: relative;}#sk-container-id-2 div.sk-item::before, #sk-container-id-2 div.sk-parallel-item::before {content: \"\";position: absolute;border-left: 1px solid gray;box-sizing: border-box;top: 0;bottom: 0;left: 50%;z-index: -1;}#sk-container-id-2 div.sk-parallel-item {display: flex;flex-direction: column;z-index: 1;position: relative;background-color: white;}#sk-container-id-2 div.sk-parallel-item:first-child::after {align-self: flex-end;width: 50%;}#sk-container-id-2 div.sk-parallel-item:last-child::after {align-self: flex-start;width: 50%;}#sk-container-id-2 div.sk-parallel-item:only-child::after {width: 0;}#sk-container-id-2 div.sk-dashed-wrapped {border: 1px dashed gray;margin: 0 0.4em 0.5em 0.4em;box-sizing: border-box;padding-bottom: 0.4em;background-color: white;}#sk-container-id-2 div.sk-label label {font-family: monospace;font-weight: bold;display: inline-block;line-height: 1.2em;}#sk-container-id-2 div.sk-label-container {text-align: center;}#sk-container-id-2 div.sk-container {/* jupyter's `normalize.less` sets `[hidden] { display: none; }` but bootstrap.min.css set `[hidden] { display: none !important; }` so we also need the `!important` here to be able to override the default hidden behavior on the sphinx rendered scikit-learn.org. See: https://github.com/scikit-learn/scikit-learn/issues/21755 */display: inline-block !important;position: relative;}#sk-container-id-2 div.sk-text-repr-fallback {display: none;}</style><div id=\"sk-container-id-2\" class=\"sk-top-container\"><div class=\"sk-text-repr-fallback\"><pre>RandomizedSearchCV(cv=3,\n",
              "                   estimator=&lt;keras.wrappers.scikit_learn.KerasRegressor object at 0x7efc070f9cc0&gt;,\n",
              "                   n_jobs=-1,\n",
              "                   param_distributions={&#x27;batch_size&#x27;: [32, 64],\n",
              "                                        &#x27;dropout_rate&#x27;: [0.2, 0.4],\n",
              "                                        &#x27;epochs&#x27;: [10],\n",
              "                                        &#x27;learning_rate&#x27;: [0.01, 0.001],\n",
              "                                        &#x27;neurons&#x27;: [25, 50]},\n",
              "                   random_state=42, verbose=2)</pre><b>In a Jupyter environment, please rerun this cell to show the HTML representation or trust the notebook. <br />On GitHub, the HTML representation is unable to render, please try loading this page with nbviewer.org.</b></div><div class=\"sk-container\" hidden><div class=\"sk-item sk-dashed-wrapped\"><div class=\"sk-label-container\"><div class=\"sk-label sk-toggleable\"><input class=\"sk-toggleable__control sk-hidden--visually\" id=\"sk-estimator-id-4\" type=\"checkbox\" ><label for=\"sk-estimator-id-4\" class=\"sk-toggleable__label sk-toggleable__label-arrow\">RandomizedSearchCV</label><div class=\"sk-toggleable__content\"><pre>RandomizedSearchCV(cv=3,\n",
              "                   estimator=&lt;keras.wrappers.scikit_learn.KerasRegressor object at 0x7efc070f9cc0&gt;,\n",
              "                   n_jobs=-1,\n",
              "                   param_distributions={&#x27;batch_size&#x27;: [32, 64],\n",
              "                                        &#x27;dropout_rate&#x27;: [0.2, 0.4],\n",
              "                                        &#x27;epochs&#x27;: [10],\n",
              "                                        &#x27;learning_rate&#x27;: [0.01, 0.001],\n",
              "                                        &#x27;neurons&#x27;: [25, 50]},\n",
              "                   random_state=42, verbose=2)</pre></div></div></div><div class=\"sk-parallel\"><div class=\"sk-parallel-item\"><div class=\"sk-item\"><div class=\"sk-label-container\"><div class=\"sk-label sk-toggleable\"><input class=\"sk-toggleable__control sk-hidden--visually\" id=\"sk-estimator-id-5\" type=\"checkbox\" ><label for=\"sk-estimator-id-5\" class=\"sk-toggleable__label sk-toggleable__label-arrow\">estimator: KerasRegressor</label><div class=\"sk-toggleable__content\"><pre>&lt;keras.wrappers.scikit_learn.KerasRegressor object at 0x7efc070f9cc0&gt;</pre></div></div></div><div class=\"sk-serial\"><div class=\"sk-item\"><div class=\"sk-estimator sk-toggleable\"><input class=\"sk-toggleable__control sk-hidden--visually\" id=\"sk-estimator-id-6\" type=\"checkbox\" ><label for=\"sk-estimator-id-6\" class=\"sk-toggleable__label sk-toggleable__label-arrow\">KerasRegressor</label><div class=\"sk-toggleable__content\"><pre>&lt;keras.wrappers.scikit_learn.KerasRegressor object at 0x7efc070f9cc0&gt;</pre></div></div></div></div></div></div></div></div></div></div>"
            ]
          },
          "metadata": {},
          "execution_count": 14
        }
      ],
      "source": [
        "# LSTM & Hyperparameter tuning\n",
        "from sklearn.model_selection import RandomizedSearchCV\n",
        "from keras.wrappers.scikit_learn import KerasRegressor\n",
        "import tensorflow as tf\n",
        "\n",
        "def create_model(learning_rate=0.001, dropout_rate=0.2, neurons=50):\n",
        "  model = Sequential()\n",
        "  model.add(LSTM(neurons, activation=\"tanh\", input_shape=(n_past, len(feature_columns)), return_sequences=True))\n",
        "  model.add(Dropout(dropout_rate))\n",
        "  model.add(LSTM(neurons, activation=\"tanh\", return_sequences=False))\n",
        "  model.add(Dropout(dropout_rate))\n",
        "  model.add(Dense(n_future))\n",
        "  optimizer = tf.keras.optimizers.Adam(lr=learning_rate)\n",
        "  model.compile(optimizer=optimizer, loss=\"mse\")\n",
        "  return model\n",
        "\n",
        "model = KerasRegressor(build_fn=create_model, verbose=0)\n",
        "\n",
        "param_dist = {\n",
        "    'batch_size': [32, 64],\n",
        "    'epochs': [10],\n",
        "    'learning_rate': [0.01, 0.001],\n",
        "    'dropout_rate': [0.2, 0.4],\n",
        "    'neurons': [25, 50]\n",
        "}\n",
        "\n",
        "random_search = RandomizedSearchCV(estimator=model, param_distributions=param_dist, n_iter=10, cv=3, verbose=2, random_state=42, n_jobs=-1)\n",
        "random_search.fit(x_train, y_train)\n"
      ]
    },
    {
      "cell_type": "code",
      "execution_count": 16,
      "metadata": {
        "id": "BEdRLuTjRsEF",
        "colab": {
          "base_uri": "https://localhost:8080/"
        },
        "outputId": "c81a8d71-0703-427e-b11d-a01f5c25718d"
      },
      "outputs": [
        {
          "output_type": "stream",
          "name": "stdout",
          "text": [
            "Epoch 1/10\n",
            "45/45 [==============================] - 8s 188ms/step - loss: 0.0021\n",
            "Epoch 2/10\n",
            "45/45 [==============================] - 7s 159ms/step - loss: 0.0018\n",
            "Epoch 3/10\n",
            "45/45 [==============================] - 12s 257ms/step - loss: 0.0016\n",
            "Epoch 4/10\n",
            "45/45 [==============================] - 9s 190ms/step - loss: 0.0018\n",
            "Epoch 5/10\n",
            "45/45 [==============================] - 8s 168ms/step - loss: 0.0018\n",
            "Epoch 6/10\n",
            "45/45 [==============================] - 7s 162ms/step - loss: 0.0016\n",
            "Epoch 7/10\n",
            "45/45 [==============================] - 8s 181ms/step - loss: 0.0016\n",
            "Epoch 8/10\n",
            "45/45 [==============================] - 7s 149ms/step - loss: 0.0018\n",
            "Epoch 9/10\n",
            "45/45 [==============================] - 8s 183ms/step - loss: 0.0015\n",
            "Epoch 10/10\n",
            "45/45 [==============================] - 7s 149ms/step - loss: 0.0016\n"
          ]
        },
        {
          "output_type": "execute_result",
          "data": {
            "text/plain": [
              "<keras.callbacks.History at 0x7efbf75d13c0>"
            ]
          },
          "metadata": {},
          "execution_count": 16
        }
      ],
      "source": [
        "# Training the model\n",
        "best_model = random_search.best_estimator_.model\n",
        "best_model.fit(x_train, y_train, epochs=random_search.best_params_['epochs'], batch_size=random_search.best_params_['batch_size'])\n"
      ]
    },
    {
      "cell_type": "code",
      "execution_count": 17,
      "metadata": {
        "id": "vlQZAnCT2VoR",
        "colab": {
          "base_uri": "https://localhost:8080/"
        },
        "outputId": "a098b6ba-ac44-4869-bf66-b977b47d1977"
      },
      "outputs": [
        {
          "output_type": "stream",
          "name": "stdout",
          "text": [
            "13/13 [==============================] - 1s 33ms/step\n"
          ]
        }
      ],
      "source": [
        "# Make predictions\n",
        "y_pred = best_model.predict(x_test)\n"
      ]
    },
    {
      "cell_type": "code",
      "execution_count": 18,
      "metadata": {
        "id": "RbyL74yOE5Xb",
        "colab": {
          "base_uri": "https://localhost:8080/",
          "height": 618
        },
        "outputId": "215219c2-c360-48ee-eabc-a20cc69b4672"
      },
      "outputs": [
        {
          "output_type": "stream",
          "name": "stdout",
          "text": [
            "Mean Squared Error: 3097709.53\n",
            "Mean Absolute Error: 1189.41\n",
            "R2 Score: 0.95\n"
          ]
        },
        {
          "output_type": "display_data",
          "data": {
            "text/plain": [
              "<Figure size 1200x600 with 1 Axes>"
            ],
            "image/png": "[encoded data removed]"
          },
          "metadata": {}
        }
      ],
      "source": [
        "# Invert the scaling for predictions\n",
        "from sklearn.metrics import mean_squared_error, mean_absolute_error, r2_score\n",
        "y_pred_actual = scaler_btc.inverse_transform(y_pred)\n",
        "y_test_actual = scaler_btc.inverse_transform(y_test)\n",
        "# Evaluate the model\n",
        "mse = mean_squared_error(y_test_actual, y_pred_actual)\n",
        "mae = mean_absolute_error(y_test_actual, y_pred_actual)\n",
        "r2 = r2_score(y_test_actual, y_pred_actual)\n",
        "\n",
        "print(\"Mean Squared Error: {:.2f}\".format(mse))\n",
        "print(\"Mean Absolute Error: {:.2f}\".format(mae))\n",
        "print(\"R2 Score: {:.2f}\".format(r2))\n",
        "\n",
        "# Visualize the results\n",
        "plt.figure(figsize=(12, 6))\n",
        "plt.plot(merged_df.index[-len(y_pred_actual):], y_pred_actual, label=\"Predicted Price\", color='r')\n",
        "plt.plot(merged_df.index[-len(y_test_actual):], y_test_actual, label=\"Actual Price\", color='b')\n",
        "plt.xlabel(\"Date\")\n",
        "plt.ylabel(\"Price\")\n",
        "plt.legend(loc=\"best\")\n",
        "plt.title(\"BTC Price Prediction\")\n",
        "plt.show()\n"
      ]
    },
    {
      "cell_type": "code",
      "source": [
        "# Forecast for the next day\n",
        "x_forecast = merged_df[feature_columns].values[-n_past:]\n",
        "x_forecast = x_forecast.reshape((1, n_past, len(feature_columns)))\n",
        "\n",
        "# Predict the future price\n",
        "y_forecast = best_model.predict(x_forecast)\n",
        "\n",
        "# Invert the scaling for the forecasted price\n",
        "forecasted_price_actual = scaler_btc.inverse_transform(y_forecast)\n",
        "\n",
        "print(forecasted_price_actual)"
      ],
      "metadata": {
        "id": "AeLWRxSh5n-x",
        "colab": {
          "base_uri": "https://localhost:8080/"
        },
        "outputId": "2bbb52da-9cc1-420f-9162-cb71fdcd4f42"
      },
      "execution_count": 19,
      "outputs": [
        {
          "output_type": "stream",
          "name": "stdout",
          "text": [
            "1/1 [==============================] - 0s 44ms/step\n",
            "[[28230.977]]\n"
          ]
        }
      ]
    }
  ],
  "metadata": {
    "colab": {
      "provenance": [],
      "include_colab_link": true
    },
    "gpuClass": "premium",
    "kernelspec": {
      "display_name": "Python 3",
      "name": "python3"
    },
    "language_info": {
      "name": "python"
    }
  },
  "nbformat": 4,
  "nbformat_minor": 0
}