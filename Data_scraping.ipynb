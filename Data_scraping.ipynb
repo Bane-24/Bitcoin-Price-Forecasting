{
  "nbformat": 4,
  "nbformat_minor": 0,
  "metadata": {
    "colab": {
      "provenance": [],
      "authorship_tag": "ABX9TyPtXBKClldsHmAF9BGAiwxy",
      "include_colab_link": true
    },
    "kernelspec": {
      "name": "python3",
      "display_name": "Python 3"
    },
    "language_info": {
      "name": "python"
    }
  },
  "cells": [
    {
      "cell_type": "markdown",
      "metadata": {
        "id": "view-in-github",
        "colab_type": "text"
      },
      "source": [
        "<a href=\"https://colab.research.google.com/github/Bane-24/Crypto-Price-Prediction/blob/main/Data_scraping.ipynb\" target=\"_parent\"><img src=\"https://colab.research.google.com/assets/colab-badge.svg\" alt=\"Open In Colab\"/></a>"
      ]
    },
    {
      "cell_type": "code",
      "execution_count": null,
      "metadata": {
        "id": "fnQdrexhNxqS"
      },
      "outputs": [],
      "source": [
        "# Importing Libraries\n",
        "!pip install cryptocmd\n",
        "!pip install yfinance\n",
        "import numpy as np\n",
        "import pandas as pd\n",
        "import matplotlib.pyplot as plt\n",
        "import seaborn as sns\n",
        "from cryptocmd import CmcScraper\n",
        "import yfinance as yf\n",
        "from sklearn.preprocessing import MinMaxScaler\n",
        "from sklearn.metrics import mean_squared_error, mean_absolute_error, r2_score\n",
        "import tensorflow as tf\n",
        "from tensorflow.keras.models import Sequential\n",
        "from tensorflow.keras.layers import LSTM, Dense, Dropout"
      ]
    },
    {
      "cell_type": "code",
      "source": [
        "# Scrape Bitcoin historical data\n",
        "scraper = CmcScraper(\"BTC\", \"01-01-2014\", \"31-03-2023\")\n",
        "bitcoin_df = scraper.get_dataframe()\n",
        "\n",
        "# Scrape stock market data\n",
        "stock_data = yf.download(\"SPY\", start=\"2014-01-01\", end=\"2023-03-31\")\n",
        "stock_df = stock_data[\"Adj Close\"].to_frame().reset_index().rename(columns={\"Adj Close\": \"stock_price\", \"Date\": \"Date\"})\n",
        "\n",
        "# Merge data and handle NA using interpolation\n",
        "merged_df = bitcoin_df.merge(stock_df, on=\"Date\", how=\"inner\")\n",
        "merged_df.set_index(\"Date\", inplace=True)\n",
        "merged_df.index = pd.to_datetime(merged_df.index)\n",
        "merged_df.interpolate(method=\"time\", inplace=True)\n"
      ],
      "metadata": {
        "id": "jhBFjmkENy15"
      },
      "execution_count": null,
      "outputs": []
    },
    {
      "cell_type": "code",
      "source": [
        "# Add 'week' and 'month' columns\n",
        "merged_df['Week'] = merged_df.index.week\n",
        "merged_df['Month'] = merged_df.index.month\n",
        "merged_df['Year'] = merged_df.index.year\n",
        "\n",
        "print(merged_df.head())\n",
        "merged_df.head()"
      ],
      "metadata": {
        "id": "iy41rlC4N1EE"
      },
      "execution_count": null,
      "outputs": []
    },
    {
      "cell_type": "code",
      "source": [
        "# Basic statistics\n",
        "print(merged_df.describe())\n",
        "\n",
        "# Visualize data\n",
        "fig, ax = plt.subplots(figsize=(10, 6))\n",
        "sns.lineplot(data=merged_df[[\"Close\", \"stock_price\"]], ax=ax)\n",
        "plt.show()\n",
        "\n",
        "# Correlation analysis\n",
        "print(merged_df.corr())\n"
      ],
      "metadata": {
        "id": "LsBNmgvzN3Xb"
      },
      "execution_count": null,
      "outputs": []
    }
  ]
}