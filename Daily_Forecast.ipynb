{
  "cells": [
    {
      "cell_type": "markdown",
      "metadata": {
        "id": "view-in-github",
        "colab_type": "text"
      },
      "source": [
        "<a href=\"https://colab.research.google.com/github/Bane-24/Crypto-Price-Prediction/blob/main/Daily_Forecast.ipynb\" target=\"_parent\"><img src=\"https://colab.research.google.com/assets/colab-badge.svg\" alt=\"Open In Colab\"/></a>"
      ]
    },
    {
      "cell_type": "code",
      "execution_count": 35,
      "metadata": {
        "colab": {
          "base_uri": "https://localhost:8080/"
        },
        "id": "tJDgZojod5ui",
        "outputId": "65e6258e-569b-449f-ee2c-4cf77e395065"
      },
      "outputs": [
        {
          "output_type": "stream",
          "name": "stdout",
          "text": [
            "Looking in indexes: https://pypi.org/simple, https://us-python.pkg.dev/colab-wheels/public/simple/\n",
            "Requirement already satisfied: cryptocmd in /usr/local/lib/python3.10/dist-packages (0.6.1)\n",
            "Requirement already satisfied: requests in /usr/local/lib/python3.10/dist-packages (from cryptocmd) (2.27.1)\n",
            "Requirement already satisfied: tablib in /usr/local/lib/python3.10/dist-packages (from cryptocmd) (3.4.0)\n",
            "Requirement already satisfied: charset-normalizer~=2.0.0 in /usr/local/lib/python3.10/dist-packages (from requests->cryptocmd) (2.0.12)\n",
            "Requirement already satisfied: idna<4,>=2.5 in /usr/local/lib/python3.10/dist-packages (from requests->cryptocmd) (3.4)\n",
            "Requirement already satisfied: urllib3<1.27,>=1.21.1 in /usr/local/lib/python3.10/dist-packages (from requests->cryptocmd) (1.26.15)\n",
            "Requirement already satisfied: certifi>=2017.4.17 in /usr/local/lib/python3.10/dist-packages (from requests->cryptocmd) (2022.12.7)\n",
            "Looking in indexes: https://pypi.org/simple, https://us-python.pkg.dev/colab-wheels/public/simple/\n",
            "Requirement already satisfied: yfinance in /usr/local/lib/python3.10/dist-packages (0.2.18)\n",
            "Requirement already satisfied: lxml>=4.9.1 in /usr/local/lib/python3.10/dist-packages (from yfinance) (4.9.2)\n",
            "Requirement already satisfied: cryptography>=3.3.2 in /usr/local/lib/python3.10/dist-packages (from yfinance) (40.0.2)\n",
            "Requirement already satisfied: pandas>=1.3.0 in /usr/local/lib/python3.10/dist-packages (from yfinance) (1.5.3)\n",
            "Requirement already satisfied: numpy>=1.16.5 in /usr/local/lib/python3.10/dist-packages (from yfinance) (1.22.4)\n",
            "Requirement already satisfied: html5lib>=1.1 in /usr/local/lib/python3.10/dist-packages (from yfinance) (1.1)\n",
            "Requirement already satisfied: beautifulsoup4>=4.11.1 in /usr/local/lib/python3.10/dist-packages (from yfinance) (4.11.2)\n",
            "Requirement already satisfied: requests>=2.26 in /usr/local/lib/python3.10/dist-packages (from yfinance) (2.27.1)\n",
            "Requirement already satisfied: pytz>=2022.5 in /usr/local/lib/python3.10/dist-packages (from yfinance) (2022.7.1)\n",
            "Requirement already satisfied: appdirs>=1.4.4 in /usr/local/lib/python3.10/dist-packages (from yfinance) (1.4.4)\n",
            "Requirement already satisfied: multitasking>=0.0.7 in /usr/local/lib/python3.10/dist-packages (from yfinance) (0.0.11)\n",
            "Requirement already satisfied: frozendict>=2.3.4 in /usr/local/lib/python3.10/dist-packages (from yfinance) (2.3.7)\n",
            "Requirement already satisfied: soupsieve>1.2 in /usr/local/lib/python3.10/dist-packages (from beautifulsoup4>=4.11.1->yfinance) (2.4.1)\n",
            "Requirement already satisfied: cffi>=1.12 in /usr/local/lib/python3.10/dist-packages (from cryptography>=3.3.2->yfinance) (1.15.1)\n",
            "Requirement already satisfied: six>=1.9 in /usr/local/lib/python3.10/dist-packages (from html5lib>=1.1->yfinance) (1.16.0)\n",
            "Requirement already satisfied: webencodings in /usr/local/lib/python3.10/dist-packages (from html5lib>=1.1->yfinance) (0.5.1)\n",
            "Requirement already satisfied: python-dateutil>=2.8.1 in /usr/local/lib/python3.10/dist-packages (from pandas>=1.3.0->yfinance) (2.8.2)\n",
            "Requirement already satisfied: certifi>=2017.4.17 in /usr/local/lib/python3.10/dist-packages (from requests>=2.26->yfinance) (2022.12.7)\n",
            "Requirement already satisfied: charset-normalizer~=2.0.0 in /usr/local/lib/python3.10/dist-packages (from requests>=2.26->yfinance) (2.0.12)\n",
            "Requirement already satisfied: idna<4,>=2.5 in /usr/local/lib/python3.10/dist-packages (from requests>=2.26->yfinance) (3.4)\n",
            "Requirement already satisfied: urllib3<1.27,>=1.21.1 in /usr/local/lib/python3.10/dist-packages (from requests>=2.26->yfinance) (1.26.15)\n",
            "Requirement already satisfied: pycparser in /usr/local/lib/python3.10/dist-packages (from cffi>=1.12->cryptography>=3.3.2->yfinance) (2.21)\n",
            "Looking in indexes: https://pypi.org/simple, https://us-python.pkg.dev/colab-wheels/public/simple/\n",
            "Requirement already satisfied: keras-tuner in /usr/local/lib/python3.10/dist-packages (1.3.5)\n",
            "Requirement already satisfied: requests in /usr/local/lib/python3.10/dist-packages (from keras-tuner) (2.27.1)\n",
            "Requirement already satisfied: kt-legacy in /usr/local/lib/python3.10/dist-packages (from keras-tuner) (1.0.5)\n",
            "Requirement already satisfied: packaging in /usr/local/lib/python3.10/dist-packages (from keras-tuner) (23.1)\n",
            "Requirement already satisfied: idna<4,>=2.5 in /usr/local/lib/python3.10/dist-packages (from requests->keras-tuner) (3.4)\n",
            "Requirement already satisfied: certifi>=2017.4.17 in /usr/local/lib/python3.10/dist-packages (from requests->keras-tuner) (2022.12.7)\n",
            "Requirement already satisfied: urllib3<1.27,>=1.21.1 in /usr/local/lib/python3.10/dist-packages (from requests->keras-tuner) (1.26.15)\n",
            "Requirement already satisfied: charset-normalizer~=2.0.0 in /usr/local/lib/python3.10/dist-packages (from requests->keras-tuner) (2.0.12)\n"
          ]
        }
      ],
      "source": [
        "# Installing required libraries\n",
        "!pip install cryptocmd\n",
        "!pip install yfinance\n",
        "!pip install keras-tuner\n",
        "\n",
        "import numpy as np\n",
        "import pandas as pd\n",
        "import matplotlib.pyplot as plt \n",
        "import seaborn as sns\n",
        "from cryptocmd import CmcScraper\n",
        "from sklearn.preprocessing import MinMaxScaler\n",
        "from sklearn.model_selection import TimeSeriesSplit\n",
        "from sklearn.metrics import mean_squared_error\n",
        "import yfinance as yf\n",
        "import tensorflow as tf\n",
        "from tensorflow import keras\n",
        "import keras_tuner\n",
        "from tensorflow.keras.models import Sequential\n",
        "from tensorflow.keras.layers import Dense, LSTM, Dropout, Bidirectional, Conv1D\n",
        "from kerastuner.tuners import BayesianOptimization"
      ]
    },
    {
      "cell_type": "code",
      "execution_count": null,
      "metadata": {
        "id": "JyC8QHCTSgjL"
      },
      "outputs": [],
      "source": []
    },
    {
      "cell_type": "code",
      "execution_count": null,
      "metadata": {
        "id": "Ivct-NdC2Adt"
      },
      "outputs": [],
      "source": [
        "# Scrape Bitcoin historical data\n",
        "scraper = CmcScraper(\"BTC\", \"01-01-2014\",\"31-03-2023\")\n",
        "bitcoin_df = scraper.get_dataframe()\n",
        "\n",
        "# Scrape stock market data\n",
        "stock_data = yf.download(\"SPY\", start=\"2014-01-01\", end=\"2023-03-31\")\n",
        "stock_df = stock_data[\"Adj Close\"].to_frame().reset_index().rename(columns={\"Adj Close\": \"stock_price\", \"Date\": \"Date\"})\n",
        "\n",
        "# Merge data and handle NA using interpolation\n",
        "merged_df = bitcoin_df.merge(stock_df, on=\"Date\", how=\"inner\")\n",
        "merged_df.set_index(\"Date\", inplace=True)\n",
        "merged_df.index = pd.to_datetime(merged_df.index)\n",
        "merged_df.interpolate(method=\"time\", inplace=True)\n",
        "\n",
        "# Normalize features separately\n",
        "scaler_btc = MinMaxScaler()\n",
        "merged_df[\"Close\"] = scaler_btc.fit_transform(merged_df[[\"Close\"]])\n",
        "scaler_stock = MinMaxScaler()\n",
        "merged_df[\"stock_price\"] = scaler_stock.fit_transform(merged_df[[\"stock_price\"]])\n",
        "scaler_volume = MinMaxScaler()\n",
        "merged_df[\"Volume\"] = scaler_volume.fit_transform(merged_df[[\"Volume\"]])\n",
        "\n",
        "\n"
      ]
    },
    {
      "cell_type": "code",
      "execution_count": null,
      "metadata": {
        "id": "rIg_PenC2pxL"
      },
      "outputs": [],
      "source": [
        "merged_df = merged_df.sort_values(by = ['Date'])\n",
        "merged_df.tail()"
      ]
    },
    {
      "cell_type": "code",
      "execution_count": null,
      "metadata": {
        "id": "sD8_mqtC2GSr"
      },
      "outputs": [],
      "source": [
        "# Prepare data\n",
        "def prepare_data(df, feature_columns, target_column, n_past, n_future):\n",
        "    x_data, y_data = [], []\n",
        "    for i in range(n_past, len(df) - n_future + 1):\n",
        "        x_data.append(df[feature_columns].iloc[i - n_past:i].values)\n",
        "        y_data.append(df[target_column].iloc[i:i + n_future].values)\n",
        "    return np.array(x_data), np.array(y_data)\n",
        "\n",
        "n_past = 30\n",
        "n_future = 1\n",
        "feature_columns = [\"Close\", \"stock_price\",\"Volume\"]\n",
        "target_column = \"Close\"\n",
        "x_data, y_data = prepare_data(merged_df, feature_columns, target_column, n_past, n_future)\n",
        "\n",
        "# Split into train and test sets\n",
        "# Set the cutoff date\n",
        "train_date = \"2022-03-01\"\n",
        "# Calculate the index of the train_date\n",
        "train_date_index = merged_df.index.get_loc(pd.Timestamp(train_date), method='nearest')\n",
        "\n",
        "# Calculate the train_size based on the date\n",
        "train_size = len(merged_df.loc[:train_date]) - n_past\n",
        "\n",
        "x_train, x_test = x_data[:train_size], x_data[train_size:]\n",
        "y_train, y_test = y_data[:train_size], y_data[train_size:]"
      ]
    },
    {
      "cell_type": "code",
      "source": [
        "# Creating a time-series split\n",
        "tscv = TimeSeriesSplit(n_splits=5)\n",
        "for train_index, test_index in tscv.split(x_data):\n",
        "    x_train, x_test = x_data[train_index], x_data[test_index]\n",
        "    y_train, y_test = y_data[train_index], y_data[test_index]\n"
      ],
      "metadata": {
        "id": "milU8JjHRj7L"
      },
      "execution_count": null,
      "outputs": []
    },
    {
      "cell_type": "markdown",
      "metadata": {
        "id": "-lpXEnOzgGtC"
      },
      "source": []
    },
    {
      "cell_type": "code",
      "execution_count": null,
      "metadata": {
        "id": "lAWS3lhMGb99"
      },
      "outputs": [],
      "source": [
        "print(\"x_train shape:\", x_train.shape)\n",
        "print(\"y_train shape:\", y_train.shape)\n",
        "print(\"x_test shape:\", x_test.shape)\n",
        "print(\"y_test shape:\", y_test.shape)\n"
      ]
    },
    {
      "cell_type": "code",
      "execution_count": null,
      "metadata": {
        "id": "yqUtJUFBupBZ"
      },
      "outputs": [],
      "source": []
    },
    {
      "cell_type": "code",
      "execution_count": null,
      "metadata": {
        "id": "X3Pu1_dZ2MZw"
      },
      "outputs": [],
      "source": [
        "# LSTM & Hyperparameter tuning\n",
        "from sklearn.model_selection import RandomizedSearchCV\n",
        "from keras.wrappers.scikit_learn import KerasRegressor\n",
        "from tensorflow.keras import regularizers\n",
        "from tensorflow.keras.layers import Conv1D\n",
        "\n",
        "\n",
        "def create_model(learning_rate=0.001, dropout_rate=0.2, neurons=50, l1_reg=0.001, l2_reg=0.001):\n",
        "    model = Sequential()\n",
        "    model.add(Conv1D(filters=32, kernel_size=3, activation='relu', input_shape=(n_past, len(feature_columns))))\n",
        "    model.add(Bidirectional(LSTM(neurons, activation=\"tanh\", return_sequences=True,\n",
        "                                 kernel_regularizer=regularizers.l1_l2(l1=l1_reg, l2=l2_reg))))\n",
        "    model.add(Dropout(dropout_rate))\n",
        "    model.add(LSTM(neurons, activation=\"tanh\", return_sequences=True,\n",
        "                   kernel_regularizer=regularizers.l1_l2(l1=l1_reg, l2=l2_reg)))\n",
        "    model.add(Dropout(dropout_rate))\n",
        "    model.add(LSTM(neurons, activation=\"tanh\", return_sequences=False,\n",
        "                   kernel_regularizer=regularizers.l1_l2(l1=l1_reg, l2=l2_reg)))\n",
        "    model.add(Dropout(dropout_rate))\n",
        "    model.add(Dense(neurons, activation='relu'))\n",
        "    model.add(Dense(n_future))\n",
        "    optimizer = tf.keras.optimizers.Adam(lr=learning_rate)\n",
        "    model.compile(optimizer=optimizer, loss=\"mse\")\n",
        "    return model\n",
        "\n",
        "\n",
        "model = KerasRegressor(build_fn=create_model, verbose=0)\n",
        "param_dist = {\n",
        "    'batch_size': [16, 32, 64],\n",
        "    'epochs': [10,15,20],\n",
        "    'learning_rate': [0.01, 0.001,0.0001],\n",
        "    'dropout_rate': [0.2, 0.4],\n",
        "    'neurons': [12, 25, 50,70],\n",
        "    'l1_reg': [0.001, 0.01],\n",
        "    'l2_reg': [0.001, 0.01]\n",
        "}\n",
        "random_search = RandomizedSearchCV(estimator=model, param_distributions=param_dist, n_iter=10, cv=tscv, verbose=2, random_state=42, n_jobs=-1)\n",
        "random_search.fit(x_data, y_data)\n",
        "\n",
        "print(\"Best parameters: \", random_search.best_params_)\n",
        "\n",
        "best_model = random_search.best_estimator_.model\n",
        "best_model.fit(x_train, y_train, epochs=random_search.best_params_['epochs'], batch_size=random_search.best_params_['batch_size'])\n",
        "\n"
      ]
    },
    {
      "cell_type": "code",
      "execution_count": null,
      "metadata": {
        "id": "UzdQSPW_2Rq4"
      },
      "outputs": [],
      "source": [
        "print(\"Best parameters: \", random_search.best_params_)\n"
      ]
    },
    {
      "cell_type": "code",
      "execution_count": null,
      "metadata": {
        "id": "vlQZAnCT2VoR"
      },
      "outputs": [],
      "source": [
        "\n",
        "\n",
        "# Make predictions\n",
        "y_pred = best_model.predict(x_test)\n"
      ]
    },
    {
      "cell_type": "code",
      "execution_count": null,
      "metadata": {
        "id": "RbyL74yOE5Xb"
      },
      "outputs": [],
      "source": [
        "# Invert the scaling for predictions\n",
        "from sklearn.metrics import mean_squared_error, mean_absolute_error, r2_score\n",
        "y_pred_actual = scaler_btc.inverse_transform(y_pred)\n",
        "y_test_actual = scaler_btc.inverse_transform(y_test)\n",
        "# Evaluate the model\n",
        "mse = mean_squared_error(y_test_actual, y_pred_actual)\n",
        "mae = mean_absolute_error(y_test_actual, y_pred_actual)\n",
        "r2 = r2_score(y_test_actual, y_pred_actual)\n",
        "\n",
        "print(\"Mean Squared Error: {:.2f}\".format(mse))\n",
        "print(\"Mean Absolute Error: {:.2f}\".format(mae))\n",
        "print(\"R2 Score: {:.2f}\".format(r2))\n",
        "\n",
        "# Visualize the results\n",
        "plt.figure(figsize=(12, 6))\n",
        "plt.plot(merged_df.index[-len(y_pred_actual):], y_pred_actual, label=\"Predicted Price\", color='r')\n",
        "plt.plot(merged_df.index[-len(y_test_actual):], y_test_actual, label=\"Actual Price\", color='b')\n",
        "plt.xlabel(\"Date\")\n",
        "plt.ylabel(\"Price\")\n",
        "plt.legend(loc=\"best\")\n",
        "plt.title(\"BTC Price Prediction\")\n",
        "plt.show()\n"
      ]
    },
    {
      "cell_type": "code",
      "source": [
        "# Forecast for the next day\n",
        "x_forecast = merged_df[feature_columns].values[-n_past:]\n",
        "x_forecast = x_forecast.reshape((1, n_past, len(feature_columns)))\n",
        "\n",
        "# Predict the future price\n",
        "y_forecast = best_model.predict(x_forecast)\n",
        "\n",
        "# Invert the scaling for the forecasted price\n",
        "forecasted_price_actual = scaler_btc.inverse_transform(y_forecast)\n",
        "\n",
        "print(forecasted_price_actual)\n",
        "\n",
        "# Add the forecasted price to the y_pred_actual dataframe\n",
        "next_day = merged_df.index[-1] + pd.Timedelta(days=1)\n",
        "y_pred_actual_df = pd.concat([y_pred_actual_df, pd.DataFrame(forecasted_price_actual, index=[next_day], columns=[\"Predicted Price\"])])\n",
        "y_test_actual_df = pd.concat([y_test_actual_df, pd.DataFrame({\"Actual Price\": [None]}, index=[next_day])])\n",
        "\n",
        "# Plot the actual and predicted prices\n",
        "plt.figure(figsize=(14,7))\n",
        "plt.plot(y_test_actual_df.index, y_test_actual_df['Actual Price'], color='blue', label='Actual Price')\n",
        "plt.plot(y_pred_actual_df.index, y_pred_actual_df['Predicted Price'], color='red', label='Predicted Price')\n",
        "plt.title('Bitcoin Price Prediction')\n",
        "plt.xlabel('Date')\n",
        "plt.ylabel('Price')\n",
        "plt.legend()\n",
        "plt.grid(True)\n",
        "plt.show()\n"
      ],
      "metadata": {
        "id": "xMbf8z1WtwqE"
      },
      "execution_count": null,
      "outputs": []
    },
    {
      "cell_type": "code",
      "source": [
        "# YET TO BE FIXED\n",
        "import matplotlib.dates as mdates\n",
        "\n",
        "# Remove the \"Actual Price\" column from y_test_actual_df\n",
        "y_test_actual_df = y_test_actual_df.drop(columns=[\"Actual Price\"])\n",
        "\n",
        "fig, ax = plt.subplots(figsize=(12, 6))\n",
        "\n",
        "# Plot the data\n",
        "ax.plot(y_pred_actual_df.index, y_pred_actual_df[\"Predicted Price\"], label=\"Predicted Price\", color='r')\n",
        "ax.plot(y_test_actual_df.index, y_test_actual_df, label=\"Actual Price\", color='b')\n",
        "\n",
        "# Set the date format\n",
        "ax.xaxis.set_major_locator(mdates.MonthLocator())  # to get a tick every month\n",
        "ax.xaxis.set_major_formatter(mdates.DateFormatter('%Y-%m'))  # optional formatting \n",
        "\n",
        "ax.set_xlabel(\"Date\")\n",
        "ax.set_ylabel(\"Price\")\n",
        "plt.legend(loc=\"best\")\n",
        "plt.title(\"BTC Price Prediction\")\n",
        "plt.xticks(rotation=45)  # Rotates X-Axis Ticks\n",
        "plt.tight_layout()\n",
        "plt.show()\n"
      ],
      "metadata": {
        "id": "0os1F4wmwz8X"
      },
      "execution_count": null,
      "outputs": []
    },
    {
      "cell_type": "code",
      "source": [],
      "metadata": {
        "id": "KPBThtNupzd9"
      },
      "execution_count": null,
      "outputs": []
    }
  ],
  "metadata": {
    "colab": {
      "machine_shape": "hm",
      "provenance": [],
      "authorship_tag": "ABX9TyPoJ8DsDKBDakaJ4aDUuJYn",
      "include_colab_link": true
    },
    "gpuClass": "standard",
    "kernelspec": {
      "display_name": "Python 3",
      "name": "python3"
    },
    "language_info": {
      "name": "python"
    },
    "accelerator": "GPU"
  },
  "nbformat": 4,
  "nbformat_minor": 0
}